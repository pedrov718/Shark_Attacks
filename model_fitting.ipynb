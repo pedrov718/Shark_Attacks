{
 "cells": [
  {
   "cell_type": "code",
   "execution_count": 1,
   "metadata": {
    "collapsed": true,
    "pycharm": {
     "name": "#%%\n"
    }
   },
   "outputs": [],
   "source": [
    "import pandas as pd\n",
    "import numpy as np\n",
    "import matplotlib.pyplot as plt\n",
    "import seaborn as sns\n",
    "import datetime\n",
    "from   sklearn.linear_model import LinearRegression, LogisticRegression\n",
    "from   sklearn.model_selection import train_test_split\n",
    "from sklearn.model_selection import cross_validate, cross_val_score\n",
    "from sklearn.tree import DecisionTreeClassifier\n",
    "from sklearn.naive_bayes import MultinomialNB"
   ]
  },
  {
   "cell_type": "code",
   "execution_count": 4,
   "outputs": [
    {
     "name": "stderr",
     "output_type": "stream",
     "text": [
      "C:\\Users\\pedro\\anaconda3\\Lib\\site-packages\\openpyxl\\worksheet\\_reader.py:211: UserWarning: Cell A1048576 is marked as a date but the serial value 14707374 is outside the limits for dates. The cell will be treated as an error.\n",
      "  warn(msg)\n"
     ]
    }
   ],
   "source": [
    "shark = pd.read_excel(\"shark_attack_data_cleaned.xlsx\", nrows = 1198)"
   ],
   "metadata": {
    "collapsed": false,
    "pycharm": {
     "name": "#%%\n"
    }
   }
  },
  {
   "cell_type": "code",
   "execution_count": 6,
   "outputs": [
    {
     "data": {
      "text/plain": "                    Date  Year        Type       Country  \\\n530  2002-12-16 00:00:00  2002  Unprovoked     AUSTRALIA   \n783  1991-02-12 00:00:00  1991  Unprovoked  SOUTH AFRICA   \n461  2004-10-21 00:00:00  2004  Unprovoked     AUSTRALIA   \n954  1974-09-02 00:00:00  1974  Unprovoked           USA   \n870  1983-07-12 00:00:00  1983  Unprovoked           USA   \n454  2005-08-24 00:00:00  2005  Unprovoked           USA   \n546  2002-05-31 00:00:00  2002  Unprovoked           USA   \n936  1975-06-23 00:00:00  1975  Unprovoked           USA   \n148  2013-02-10 00:00:00  2013  Unprovoked           USA   \n566  2002-11-28 00:00:00  2002  Unprovoked           USA   \n\n                      Area                                           Location  \\\n530             Queensland                                         Miami Lake   \n783  Western Cape Province                                     Miller’s Point   \n461        New South Wales                                     Stockton Beach   \n954             California                   Franklin Point, San Mateo County   \n870                Florida                   Caloosahatchee River, Lee County   \n454             California                 Scripps, LaJolla, San Diego County   \n546                Florida  St. George Island (near Apachicola), Franklin ...   \n936         South Carolina        Windy hill, near Myrtle Beach, horry County   \n148                Florida                      \"Stuart Rocks\", Martin County   \n566             California                        Salmon Creek, Sonoma County   \n\n            Activity Sex Age  Fatal         Time               Species  \n530  Swimming/Diving   M  23      1   2.30.00 AM                  Bull  \n783          Fishing   M  20      0  12.30.00 PM                 White  \n461   Board involved   M  59      0    Afternoon         Bronze whaler  \n954  Swimming/Diving   M  48      0   5.30.00 PM                 White  \n870   Board involved   F  39      0    Afternoon            Hammerhead  \n454   Board involved   M  37      0  11.00.00 AM                 White  \n546  Swimming/Diving   M  16      0   4.15.00 PM  Unidentified species  \n936  Swimming/Diving   M  18      0   4.30.00 PM  Unidentified species  \n148   Board involved   M  16      0   2.00.00 PM              Blacktip  \n566   Board involved   M  48      0   9.45.00 AM                 White  ",
      "text/html": "<div>\n<style scoped>\n    .dataframe tbody tr th:only-of-type {\n        vertical-align: middle;\n    }\n\n    .dataframe tbody tr th {\n        vertical-align: top;\n    }\n\n    .dataframe thead th {\n        text-align: right;\n    }\n</style>\n<table border=\"1\" class=\"dataframe\">\n  <thead>\n    <tr style=\"text-align: right;\">\n      <th></th>\n      <th>Date</th>\n      <th>Year</th>\n      <th>Type</th>\n      <th>Country</th>\n      <th>Area</th>\n      <th>Location</th>\n      <th>Activity</th>\n      <th>Sex</th>\n      <th>Age</th>\n      <th>Fatal</th>\n      <th>Time</th>\n      <th>Species</th>\n    </tr>\n  </thead>\n  <tbody>\n    <tr>\n      <th>530</th>\n      <td>2002-12-16 00:00:00</td>\n      <td>2002</td>\n      <td>Unprovoked</td>\n      <td>AUSTRALIA</td>\n      <td>Queensland</td>\n      <td>Miami Lake</td>\n      <td>Swimming/Diving</td>\n      <td>M</td>\n      <td>23</td>\n      <td>1</td>\n      <td>2.30.00 AM</td>\n      <td>Bull</td>\n    </tr>\n    <tr>\n      <th>783</th>\n      <td>1991-02-12 00:00:00</td>\n      <td>1991</td>\n      <td>Unprovoked</td>\n      <td>SOUTH AFRICA</td>\n      <td>Western Cape Province</td>\n      <td>Miller’s Point</td>\n      <td>Fishing</td>\n      <td>M</td>\n      <td>20</td>\n      <td>0</td>\n      <td>12.30.00 PM</td>\n      <td>White</td>\n    </tr>\n    <tr>\n      <th>461</th>\n      <td>2004-10-21 00:00:00</td>\n      <td>2004</td>\n      <td>Unprovoked</td>\n      <td>AUSTRALIA</td>\n      <td>New South Wales</td>\n      <td>Stockton Beach</td>\n      <td>Board involved</td>\n      <td>M</td>\n      <td>59</td>\n      <td>0</td>\n      <td>Afternoon</td>\n      <td>Bronze whaler</td>\n    </tr>\n    <tr>\n      <th>954</th>\n      <td>1974-09-02 00:00:00</td>\n      <td>1974</td>\n      <td>Unprovoked</td>\n      <td>USA</td>\n      <td>California</td>\n      <td>Franklin Point, San Mateo County</td>\n      <td>Swimming/Diving</td>\n      <td>M</td>\n      <td>48</td>\n      <td>0</td>\n      <td>5.30.00 PM</td>\n      <td>White</td>\n    </tr>\n    <tr>\n      <th>870</th>\n      <td>1983-07-12 00:00:00</td>\n      <td>1983</td>\n      <td>Unprovoked</td>\n      <td>USA</td>\n      <td>Florida</td>\n      <td>Caloosahatchee River, Lee County</td>\n      <td>Board involved</td>\n      <td>F</td>\n      <td>39</td>\n      <td>0</td>\n      <td>Afternoon</td>\n      <td>Hammerhead</td>\n    </tr>\n    <tr>\n      <th>454</th>\n      <td>2005-08-24 00:00:00</td>\n      <td>2005</td>\n      <td>Unprovoked</td>\n      <td>USA</td>\n      <td>California</td>\n      <td>Scripps, LaJolla, San Diego County</td>\n      <td>Board involved</td>\n      <td>M</td>\n      <td>37</td>\n      <td>0</td>\n      <td>11.00.00 AM</td>\n      <td>White</td>\n    </tr>\n    <tr>\n      <th>546</th>\n      <td>2002-05-31 00:00:00</td>\n      <td>2002</td>\n      <td>Unprovoked</td>\n      <td>USA</td>\n      <td>Florida</td>\n      <td>St. George Island (near Apachicola), Franklin ...</td>\n      <td>Swimming/Diving</td>\n      <td>M</td>\n      <td>16</td>\n      <td>0</td>\n      <td>4.15.00 PM</td>\n      <td>Unidentified species</td>\n    </tr>\n    <tr>\n      <th>936</th>\n      <td>1975-06-23 00:00:00</td>\n      <td>1975</td>\n      <td>Unprovoked</td>\n      <td>USA</td>\n      <td>South Carolina</td>\n      <td>Windy hill, near Myrtle Beach, horry County</td>\n      <td>Swimming/Diving</td>\n      <td>M</td>\n      <td>18</td>\n      <td>0</td>\n      <td>4.30.00 PM</td>\n      <td>Unidentified species</td>\n    </tr>\n    <tr>\n      <th>148</th>\n      <td>2013-02-10 00:00:00</td>\n      <td>2013</td>\n      <td>Unprovoked</td>\n      <td>USA</td>\n      <td>Florida</td>\n      <td>\"Stuart Rocks\", Martin County</td>\n      <td>Board involved</td>\n      <td>M</td>\n      <td>16</td>\n      <td>0</td>\n      <td>2.00.00 PM</td>\n      <td>Blacktip</td>\n    </tr>\n    <tr>\n      <th>566</th>\n      <td>2002-11-28 00:00:00</td>\n      <td>2002</td>\n      <td>Unprovoked</td>\n      <td>USA</td>\n      <td>California</td>\n      <td>Salmon Creek, Sonoma County</td>\n      <td>Board involved</td>\n      <td>M</td>\n      <td>48</td>\n      <td>0</td>\n      <td>9.45.00 AM</td>\n      <td>White</td>\n    </tr>\n  </tbody>\n</table>\n</div>"
     },
     "execution_count": 6,
     "metadata": {},
     "output_type": "execute_result"
    }
   ],
   "source": [
    "shark.sample(10)"
   ],
   "metadata": {
    "collapsed": false,
    "pycharm": {
     "name": "#%%\n"
    }
   }
  },
  {
   "cell_type": "code",
   "execution_count": 12,
   "outputs": [],
   "source": [
    "columns = {} # creating a mapper dictionary to change the names of my columns from uppercase to lowercase, this is just for my ease of use!\n",
    "for column in shark.columns:\n",
    "    columns[column] = column.lower()"
   ],
   "metadata": {
    "collapsed": false,
    "pycharm": {
     "name": "#%%\n"
    }
   }
  },
  {
   "cell_type": "code",
   "execution_count": 15,
   "outputs": [],
   "source": [
    "shark.rename(columns = columns, inplace = True)"
   ],
   "metadata": {
    "collapsed": false,
    "pycharm": {
     "name": "#%%\n"
    }
   }
  },
  {
   "cell_type": "code",
   "execution_count": 17,
   "outputs": [
    {
     "name": "stdout",
     "output_type": "stream",
     "text": [
      "<class 'pandas.core.frame.DataFrame'>\n",
      "RangeIndex: 1198 entries, 0 to 1197\n",
      "Data columns (total 12 columns):\n",
      " #   Column    Non-Null Count  Dtype \n",
      "---  ------    --------------  ----- \n",
      " 0   date      1198 non-null   object\n",
      " 1   year      1198 non-null   int64 \n",
      " 2   type      1198 non-null   object\n",
      " 3   country   1198 non-null   object\n",
      " 4   area      1198 non-null   object\n",
      " 5   location  1198 non-null   object\n",
      " 6   activity  1198 non-null   object\n",
      " 7   sex       1198 non-null   object\n",
      " 8   age       1198 non-null   object\n",
      " 9   fatal     1198 non-null   int64 \n",
      " 10  time      1192 non-null   object\n",
      " 11  species   1198 non-null   object\n",
      "dtypes: int64(2), object(10)\n",
      "memory usage: 112.4+ KB\n"
     ]
    }
   ],
   "source": [
    "shark.info() # printing out general info of our dataframe to see which columns need work"
   ],
   "metadata": {
    "collapsed": false,
    "pycharm": {
     "name": "#%%\n"
    }
   }
  },
  {
   "cell_type": "code",
   "execution_count": 19,
   "outputs": [
    {
     "data": {
      "text/plain": "count    1198.000000\nmean     1991.931553\nstd        23.287287\nmin      1880.000000\n25%      1981.000000\n50%      2000.000000\n75%      2009.000000\nmax      2018.000000\nName: year, dtype: float64"
     },
     "execution_count": 19,
     "metadata": {},
     "output_type": "execute_result"
    }
   ],
   "source": [
    "shark.year.describe() #year column seems to be all integer values which is great for now"
   ],
   "metadata": {
    "collapsed": false,
    "pycharm": {
     "name": "#%%\n"
    }
   }
  },
  {
   "cell_type": "code",
   "execution_count": 9,
   "outputs": [
    {
     "data": {
      "text/plain": "array(['Unprovoked', 'Provoked', 'Boating', 'Invalid', 'Sea Disaster'],\n      dtype=object)"
     },
     "execution_count": 9,
     "metadata": {},
     "output_type": "execute_result"
    }
   ],
   "source": [
    "shark.type.unique() # from here we can see that there are four values in type, each associated with the type of attack"
   ],
   "metadata": {
    "collapsed": false,
    "pycharm": {
     "name": "#%%\n"
    }
   }
  },
  {
   "cell_type": "code",
   "execution_count": 23,
   "outputs": [
    {
     "data": {
      "text/plain": "Unprovoked      1087\nProvoked          89\nBoating           15\nSea Disaster       4\nInvalid            3\nName: type, dtype: int64"
     },
     "execution_count": 23,
     "metadata": {},
     "output_type": "execute_result"
    }
   ],
   "source": [
    "shark.type.value_counts() # here we can see that Unprovoked is the most common kind of attack"
   ],
   "metadata": {
    "collapsed": false,
    "pycharm": {
     "name": "#%%\n"
    }
   }
  },
  {
   "cell_type": "code",
   "execution_count": 21,
   "outputs": [
    {
     "data": {
      "text/plain": "                    date  year     type    country               area  \\\n109  2015-06-24 00:00:00  2015  Invalid  AUSTRALIA  Western Australia   \n308  2009-09-12 00:00:00  2009  Invalid        USA     North Carolina   \n593  2001-09-16 00:00:00  2001  Invalid        USA            Florida   \n\n                                      location         activity sex age  \\\n109                                    Denmark   Board involved   F  37   \n308                  Corolla, Currituck County  Swimming/Diving   M  60   \n593  2 miles off Pompano Beach, Broward County  Swimming/Diving   M  42   \n\n     fatal        time               species  \n109      0  9.30.00 AM                 White  \n308      1  9.00.00 PM  Unidentified species  \n593      1  1.20.00 PM  Unidentified species  ",
      "text/html": "<div>\n<style scoped>\n    .dataframe tbody tr th:only-of-type {\n        vertical-align: middle;\n    }\n\n    .dataframe tbody tr th {\n        vertical-align: top;\n    }\n\n    .dataframe thead th {\n        text-align: right;\n    }\n</style>\n<table border=\"1\" class=\"dataframe\">\n  <thead>\n    <tr style=\"text-align: right;\">\n      <th></th>\n      <th>date</th>\n      <th>year</th>\n      <th>type</th>\n      <th>country</th>\n      <th>area</th>\n      <th>location</th>\n      <th>activity</th>\n      <th>sex</th>\n      <th>age</th>\n      <th>fatal</th>\n      <th>time</th>\n      <th>species</th>\n    </tr>\n  </thead>\n  <tbody>\n    <tr>\n      <th>109</th>\n      <td>2015-06-24 00:00:00</td>\n      <td>2015</td>\n      <td>Invalid</td>\n      <td>AUSTRALIA</td>\n      <td>Western Australia</td>\n      <td>Denmark</td>\n      <td>Board involved</td>\n      <td>F</td>\n      <td>37</td>\n      <td>0</td>\n      <td>9.30.00 AM</td>\n      <td>White</td>\n    </tr>\n    <tr>\n      <th>308</th>\n      <td>2009-09-12 00:00:00</td>\n      <td>2009</td>\n      <td>Invalid</td>\n      <td>USA</td>\n      <td>North Carolina</td>\n      <td>Corolla, Currituck County</td>\n      <td>Swimming/Diving</td>\n      <td>M</td>\n      <td>60</td>\n      <td>1</td>\n      <td>9.00.00 PM</td>\n      <td>Unidentified species</td>\n    </tr>\n    <tr>\n      <th>593</th>\n      <td>2001-09-16 00:00:00</td>\n      <td>2001</td>\n      <td>Invalid</td>\n      <td>USA</td>\n      <td>Florida</td>\n      <td>2 miles off Pompano Beach, Broward County</td>\n      <td>Swimming/Diving</td>\n      <td>M</td>\n      <td>42</td>\n      <td>1</td>\n      <td>1.20.00 PM</td>\n      <td>Unidentified species</td>\n    </tr>\n  </tbody>\n</table>\n</div>"
     },
     "execution_count": 21,
     "metadata": {},
     "output_type": "execute_result"
    }
   ],
   "source": [
    "shark.loc[shark.type == \"Invalid\"] # since there are only three values I will fill in these values with the most frequent value of the four categorical variables"
   ],
   "metadata": {
    "collapsed": false,
    "pycharm": {
     "name": "#%%\n"
    }
   }
  },
  {
   "cell_type": "code",
   "execution_count": 28,
   "outputs": [
    {
     "name": "stderr",
     "output_type": "stream",
     "text": [
      "C:\\Users\\pedro\\AppData\\Local\\Temp\\ipykernel_14464\\2617648377.py:1: SettingWithCopyWarning: \n",
      "A value is trying to be set on a copy of a slice from a DataFrame\n",
      "\n",
      "See the caveats in the documentation: https://pandas.pydata.org/pandas-docs/stable/user_guide/indexing.html#returning-a-view-versus-a-copy\n",
      "  shark.type[[109,308,593]] = \"Unprovoked\"\n"
     ]
    }
   ],
   "source": [
    "shark.type[[109,308,593]] = \"Unprovoked\" # updating the values of these 3 entries"
   ],
   "metadata": {
    "collapsed": false,
    "pycharm": {
     "name": "#%%\n"
    }
   }
  },
  {
   "cell_type": "code",
   "execution_count": 30,
   "outputs": [
    {
     "data": {
      "text/plain": "Unprovoked      1090\nProvoked          89\nBoating           15\nSea Disaster       4\nName: type, dtype: int64"
     },
     "execution_count": 30,
     "metadata": {},
     "output_type": "execute_result"
    }
   ],
   "source": [
    "shark.type.value_counts() # checking our new value counts for our updated values"
   ],
   "metadata": {
    "collapsed": false,
    "pycharm": {
     "name": "#%%\n"
    }
   }
  },
  {
   "cell_type": "code",
   "execution_count": 32,
   "outputs": [
    {
     "name": "stdout",
     "output_type": "stream",
     "text": [
      "<class 'pandas.core.frame.DataFrame'>\n",
      "RangeIndex: 1198 entries, 0 to 1197\n",
      "Data columns (total 12 columns):\n",
      " #   Column    Non-Null Count  Dtype \n",
      "---  ------    --------------  ----- \n",
      " 0   date      1198 non-null   object\n",
      " 1   year      1198 non-null   int64 \n",
      " 2   type      1198 non-null   object\n",
      " 3   country   1198 non-null   object\n",
      " 4   area      1198 non-null   object\n",
      " 5   location  1198 non-null   object\n",
      " 6   activity  1198 non-null   object\n",
      " 7   sex       1198 non-null   object\n",
      " 8   age       1198 non-null   object\n",
      " 9   fatal     1198 non-null   int64 \n",
      " 10  time      1192 non-null   object\n",
      " 11  species   1198 non-null   object\n",
      "dtypes: int64(2), object(10)\n",
      "memory usage: 112.4+ KB\n"
     ]
    }
   ],
   "source": [
    "shark.info()"
   ],
   "metadata": {
    "collapsed": false,
    "pycharm": {
     "name": "#%%\n"
    }
   }
  },
  {
   "cell_type": "code",
   "execution_count": 35,
   "outputs": [
    {
     "data": {
      "text/plain": "Afternoon      59\n11.00.00 AM    55\n4.30.00 PM     43\n4.00.00 PM     42\nMorning        42\n               ..\n6.50.00 PM      1\n1.55.00 PM      1\n9.00.00 PM      1\n15j45           1\n                1\nName: time, Length: 185, dtype: int64"
     },
     "execution_count": 35,
     "metadata": {},
     "output_type": "execute_result"
    }
   ],
   "source": [
    "shark[\"time\"].value_counts()"
   ],
   "metadata": {
    "collapsed": false,
    "pycharm": {
     "name": "#%%\n"
    }
   }
  },
  {
   "cell_type": "markdown",
   "source": [
    "### A lot of work needs to be done to clean up this time column to be ready to convert use a one hot encoder"
   ],
   "metadata": {
    "collapsed": false,
    "pycharm": {
     "name": "#%% md\n"
    }
   }
  },
  {
   "cell_type": "code",
   "execution_count": null,
   "outputs": [],
   "source": [
    "time_list = [\"Early morning\", \"Just before sundown\", \"Before 07.00\", \"Midday\", \"Early afternoon\", \"Morning\", \"After noon\", \"4/9/1902  12.00.00 AM\", \"Afternoon\", \"Morning\", \"Night\", \"Evening\"]"
   ],
   "metadata": {
    "collapsed": false,
    "pycharm": {
     "name": "#%%\n"
    }
   }
  },
  {
   "cell_type": "code",
   "execution_count": 51,
   "outputs": [],
   "source": [
    "from datetime import datetime\n",
    "# defining a function to convert am and pm time to 24 hour time\n",
    "def strip_am_pm(time_string):\n",
    "    in_time = datetime.strptime(time_string, \"%I:%M %p\")\n",
    "    out_time = datetime.strftime(in_time, \"%H:%M\")\n",
    "    return(out_time)"
   ],
   "metadata": {
    "collapsed": false,
    "pycharm": {
     "name": "#%%\n"
    }
   }
  },
  {
   "cell_type": "code",
   "execution_count": 52,
   "outputs": [],
   "source": [
    "# shark[\"time\"].apply(lambda time: strip_am_pm(time))"
   ],
   "metadata": {
    "collapsed": false,
    "pycharm": {
     "name": "#%%\n"
    }
   }
  },
  {
   "cell_type": "code",
   "execution_count": 53,
   "outputs": [
    {
     "data": {
      "text/plain": "                  date  year        type    country             area  \\\n0  2018-05-26 00:00:00  2018  Unprovoked        USA          Florida   \n1  2018-02-15 00:00:00  2018  Unprovoked  AUSTRALIA  New South Wales   \n2  2018-05-24 00:00:00  2018    Provoked  AUSTRALIA       Queensland   \n3  2018-03-31 00:00:00  2018  Unprovoked        USA           hawaii   \n4  2018-03-09 00:00:00  2018  Unprovoked  AUSTRALIA         Victoria   \n\n                       location         activity sex age  fatal        time  \\\n0  Cocoa Beach, Brevard  County  Swimming/Diving   M  15      0     5.00 PM   \n1             Surf Beach, Kiama  Swimming/Diving   M  35      0  4.00.00 PM   \n2               Cairns Aquarium   Shark involved   M  32      0     Morning   \n3                   Kukio Beach   Board involved   M  25      0  9.30.00 AM   \n4                      Winkipop   Board involved   M  18      0  7.30.00 AM   \n\n                species  \n0                  Bull  \n1                  Bull  \n2             Grey reef  \n3                 Tiger  \n4  Unidentified species  ",
      "text/html": "<div>\n<style scoped>\n    .dataframe tbody tr th:only-of-type {\n        vertical-align: middle;\n    }\n\n    .dataframe tbody tr th {\n        vertical-align: top;\n    }\n\n    .dataframe thead th {\n        text-align: right;\n    }\n</style>\n<table border=\"1\" class=\"dataframe\">\n  <thead>\n    <tr style=\"text-align: right;\">\n      <th></th>\n      <th>date</th>\n      <th>year</th>\n      <th>type</th>\n      <th>country</th>\n      <th>area</th>\n      <th>location</th>\n      <th>activity</th>\n      <th>sex</th>\n      <th>age</th>\n      <th>fatal</th>\n      <th>time</th>\n      <th>species</th>\n    </tr>\n  </thead>\n  <tbody>\n    <tr>\n      <th>0</th>\n      <td>2018-05-26 00:00:00</td>\n      <td>2018</td>\n      <td>Unprovoked</td>\n      <td>USA</td>\n      <td>Florida</td>\n      <td>Cocoa Beach, Brevard  County</td>\n      <td>Swimming/Diving</td>\n      <td>M</td>\n      <td>15</td>\n      <td>0</td>\n      <td>5.00 PM</td>\n      <td>Bull</td>\n    </tr>\n    <tr>\n      <th>1</th>\n      <td>2018-02-15 00:00:00</td>\n      <td>2018</td>\n      <td>Unprovoked</td>\n      <td>AUSTRALIA</td>\n      <td>New South Wales</td>\n      <td>Surf Beach, Kiama</td>\n      <td>Swimming/Diving</td>\n      <td>M</td>\n      <td>35</td>\n      <td>0</td>\n      <td>4.00.00 PM</td>\n      <td>Bull</td>\n    </tr>\n    <tr>\n      <th>2</th>\n      <td>2018-05-24 00:00:00</td>\n      <td>2018</td>\n      <td>Provoked</td>\n      <td>AUSTRALIA</td>\n      <td>Queensland</td>\n      <td>Cairns Aquarium</td>\n      <td>Shark involved</td>\n      <td>M</td>\n      <td>32</td>\n      <td>0</td>\n      <td>Morning</td>\n      <td>Grey reef</td>\n    </tr>\n    <tr>\n      <th>3</th>\n      <td>2018-03-31 00:00:00</td>\n      <td>2018</td>\n      <td>Unprovoked</td>\n      <td>USA</td>\n      <td>hawaii</td>\n      <td>Kukio Beach</td>\n      <td>Board involved</td>\n      <td>M</td>\n      <td>25</td>\n      <td>0</td>\n      <td>9.30.00 AM</td>\n      <td>Tiger</td>\n    </tr>\n    <tr>\n      <th>4</th>\n      <td>2018-03-09 00:00:00</td>\n      <td>2018</td>\n      <td>Unprovoked</td>\n      <td>AUSTRALIA</td>\n      <td>Victoria</td>\n      <td>Winkipop</td>\n      <td>Board involved</td>\n      <td>M</td>\n      <td>18</td>\n      <td>0</td>\n      <td>7.30.00 AM</td>\n      <td>Unidentified species</td>\n    </tr>\n  </tbody>\n</table>\n</div>"
     },
     "execution_count": 53,
     "metadata": {},
     "output_type": "execute_result"
    }
   ],
   "source": [
    "shark.head()"
   ],
   "metadata": {
    "collapsed": false,
    "pycharm": {
     "name": "#%%\n"
    }
   }
  },
  {
   "cell_type": "code",
   "execution_count": 54,
   "outputs": [
    {
     "data": {
      "text/plain": "Index(['date', 'year', 'type', 'country', 'area', 'location', 'activity',\n       'sex', 'age', 'fatal', 'time', 'species'],\n      dtype='object')"
     },
     "execution_count": 54,
     "metadata": {},
     "output_type": "execute_result"
    }
   ],
   "source": [
    "shark.columns"
   ],
   "metadata": {
    "collapsed": false,
    "pycharm": {
     "name": "#%%\n"
    }
   }
  },
  {
   "cell_type": "code",
   "execution_count": 116,
   "outputs": [],
   "source": [
    "shark_clean = shark[['type', 'country', 'activity',\n",
    "       'sex', 'fatal', 'species']]"
   ],
   "metadata": {
    "collapsed": false,
    "pycharm": {
     "name": "#%%\n"
    }
   }
  },
  {
   "cell_type": "code",
   "execution_count": 117,
   "outputs": [],
   "source": [
    "X = shark_clean.drop(columns = [\"fatal\"])\n",
    "y = shark_clean[\"fatal\"]"
   ],
   "metadata": {
    "collapsed": false,
    "pycharm": {
     "name": "#%%\n"
    }
   }
  },
  {
   "cell_type": "code",
   "execution_count": 137,
   "outputs": [],
   "source": [
    "from sklearn.preprocessing import OneHotEncoder\n",
    "\n",
    "OHE = OneHotEncoder(drop = \"first\")\n",
    "\n",
    "X_encoded = OHE.fit_transform(X)"
   ],
   "metadata": {
    "collapsed": false,
    "pycharm": {
     "name": "#%%\n"
    }
   }
  },
  {
   "cell_type": "code",
   "execution_count": 145,
   "outputs": [],
   "source": [
    "shark_encoded_age = pd.DataFrame(X_encoded.todense()).join(shark.age)"
   ],
   "metadata": {
    "collapsed": false,
    "pycharm": {
     "name": "#%%\n"
    }
   }
  },
  {
   "cell_type": "code",
   "execution_count": 151,
   "outputs": [],
   "source": [
    "model = LogisticRegression()\n",
    "\n",
    "X_train, X_test, y_train, y_test = train_test_split(X_encoded, y, test_size=0.2, random_state=42)\n",
    "\n",
    "model.fit(X_train, y_train) # tell it known stuff\n",
    "\n",
    "y_predict = model.predict(X_test) # given future input, predict future output!"
   ],
   "metadata": {
    "collapsed": false,
    "pycharm": {
     "name": "#%%\n"
    }
   }
  },
  {
   "cell_type": "code",
   "execution_count": 156,
   "outputs": [
    {
     "data": {
      "text/plain": "{'precision': 0.8864628820960698,\n 'recall': 0.9759615384615384,\n 'f1-score': 0.9290617848970253,\n 'support': 208}"
     },
     "execution_count": 156,
     "metadata": {},
     "output_type": "execute_result"
    }
   ],
   "source": [
    "from sklearn.metrics import classification_report\n",
    "\n",
    "classification_report(y_test, y_predict, output_dict = True)[\"\"]"
   ],
   "metadata": {
    "collapsed": false,
    "pycharm": {
     "name": "#%%\n"
    }
   }
  },
  {
   "cell_type": "code",
   "execution_count": null,
   "outputs": [],
   "source": [],
   "metadata": {
    "collapsed": false,
    "pycharm": {
     "name": "#%%\n"
    }
   }
  }
 ],
 "metadata": {
  "kernelspec": {
   "display_name": "Python 3",
   "language": "python",
   "name": "python3"
  },
  "language_info": {
   "codemirror_mode": {
    "name": "ipython",
    "version": 2
   },
   "file_extension": ".py",
   "mimetype": "text/x-python",
   "name": "python",
   "nbconvert_exporter": "python",
   "pygments_lexer": "ipython2",
   "version": "2.7.6"
  }
 },
 "nbformat": 4,
 "nbformat_minor": 0
}
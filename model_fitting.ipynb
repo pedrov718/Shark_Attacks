{
 "cells": [
  {
   "cell_type": "code",
   "execution_count": 34,
   "metadata": {
    "collapsed": true,
    "pycharm": {
     "name": "#%%\n"
    }
   },
   "outputs": [],
   "source": [
    "import pandas as pd\n",
    "import numpy as np\n",
    "import matplotlib.pyplot as plt\n",
    "import seaborn as sns\n",
    "import datetime\n",
    "from   sklearn.linear_model import LogisticRegression\n",
    "from   sklearn.model_selection import train_test_split\n",
    "from sklearn.model_selection import cross_validate, cross_val_score\n",
    "from sklearn.tree import DecisionTreeClassifier\n",
    "from sklearn.naive_bayes import MultinomialNB\n",
    "from sklearn.metrics import classification_report, f1_score,  plot_precision_recall_curve, plot_confusion_matrix\n"
   ]
  },
  {
   "cell_type": "code",
   "execution_count": 2,
   "outputs": [
    {
     "name": "stderr",
     "output_type": "stream",
     "text": [
      "C:\\Users\\pedro\\anaconda3\\Lib\\site-packages\\openpyxl\\worksheet\\_reader.py:211: UserWarning: Cell A1048576 is marked as a date but the serial value 14707374 is outside the limits for dates. The cell will be treated as an error.\n",
      "  warn(msg)\n"
     ]
    }
   ],
   "source": [
    "shark = pd.read_excel(\"shark_attack_data_cleaned.xlsx\", nrows = 1198)"
   ],
   "metadata": {
    "collapsed": false,
    "pycharm": {
     "name": "#%%\n"
    }
   }
  },
  {
   "cell_type": "code",
   "execution_count": 3,
   "outputs": [
    {
     "data": {
      "text/plain": "                     Date  Year        Type       Country  \\\n674   1997-10-24 00:00:00  1997  Unprovoked           USA   \n916   1979-05-05 00:00:00  1979    Provoked  SOUTH AFRICA   \n1163  1934-12-31 00:00:00  1934  Unprovoked     AUSTRALIA   \n950   1974-09-01 00:00:00  1974  Unprovoked           USA   \n325   2008-03-23 00:00:00  2008  Unprovoked           USA   \n880   1983-01-08 00:00:00  1983  Unprovoked  SOUTH AFRICA   \n837   1986-01-12 00:00:00  1986  Unprovoked           USA   \n41    2016-11-28 00:00:00  2016    Provoked     AUSTRALIA   \n708   1995-08-25 00:00:00  1995  Unprovoked           USA   \n192   2012-03-06 00:00:00  2012    Provoked     AUSTRALIA   \n\n                       Area  \\\n674                 Florida   \n916   Western Cape Province   \n1163        New South Wales   \n950                  Oregon   \n325                 Florida   \n880   Western Cape Province   \n837                 Florida   \n41                 Victoria   \n708          North Carolina   \n192                Victoria   \n\n                                               Location         Activity Sex  \\\n674   North Jetty, Fort Pierce Inlet State Park, St....   Board involved   M   \n916                                 hangklip, False Bay          Fishing   M   \n1163                         George’s River at Kentucky  Swimming/Diving   F   \n950                                         Myers Creek   Board involved   M   \n325   South of Ponce de Leon Jetty, New Smyrna Beach...  Swimming/Diving   M   \n880                                             holbaai          Fishing   M   \n837     Singer Island, Riviera Beach, Palm Beach County   Board involved   M   \n41                                          Queenscliff          Fishing   M   \n708            Off Masonboro Island, New hanover County  Swimming/Diving   M   \n192                  Shipwreck Cove, Melbourne Aquarium   Shark involved   F   \n\n     Age  Fatal         Time               Species  \n674   23      0   5.15.00 PM  Unidentified species  \n916   25      0   2.00.00 PM                 White  \n1163  13      0   8.15.00 PM                 Tiger  \n950   24      0      Morning                 White  \n325   13      0  11.30.00 AM  Unidentified species  \n880   32      0   1.00.00 PM                 White  \n837   22      0   8.35.00 AM              Blacktip  \n41    73      0  11.00.00 AM             Sevengill  \n708   16      0        Night  Unidentified species  \n192   34      0  11.30.00 AM                 Nurse  ",
      "text/html": "<div>\n<style scoped>\n    .dataframe tbody tr th:only-of-type {\n        vertical-align: middle;\n    }\n\n    .dataframe tbody tr th {\n        vertical-align: top;\n    }\n\n    .dataframe thead th {\n        text-align: right;\n    }\n</style>\n<table border=\"1\" class=\"dataframe\">\n  <thead>\n    <tr style=\"text-align: right;\">\n      <th></th>\n      <th>Date</th>\n      <th>Year</th>\n      <th>Type</th>\n      <th>Country</th>\n      <th>Area</th>\n      <th>Location</th>\n      <th>Activity</th>\n      <th>Sex</th>\n      <th>Age</th>\n      <th>Fatal</th>\n      <th>Time</th>\n      <th>Species</th>\n    </tr>\n  </thead>\n  <tbody>\n    <tr>\n      <th>674</th>\n      <td>1997-10-24 00:00:00</td>\n      <td>1997</td>\n      <td>Unprovoked</td>\n      <td>USA</td>\n      <td>Florida</td>\n      <td>North Jetty, Fort Pierce Inlet State Park, St....</td>\n      <td>Board involved</td>\n      <td>M</td>\n      <td>23</td>\n      <td>0</td>\n      <td>5.15.00 PM</td>\n      <td>Unidentified species</td>\n    </tr>\n    <tr>\n      <th>916</th>\n      <td>1979-05-05 00:00:00</td>\n      <td>1979</td>\n      <td>Provoked</td>\n      <td>SOUTH AFRICA</td>\n      <td>Western Cape Province</td>\n      <td>hangklip, False Bay</td>\n      <td>Fishing</td>\n      <td>M</td>\n      <td>25</td>\n      <td>0</td>\n      <td>2.00.00 PM</td>\n      <td>White</td>\n    </tr>\n    <tr>\n      <th>1163</th>\n      <td>1934-12-31 00:00:00</td>\n      <td>1934</td>\n      <td>Unprovoked</td>\n      <td>AUSTRALIA</td>\n      <td>New South Wales</td>\n      <td>George’s River at Kentucky</td>\n      <td>Swimming/Diving</td>\n      <td>F</td>\n      <td>13</td>\n      <td>0</td>\n      <td>8.15.00 PM</td>\n      <td>Tiger</td>\n    </tr>\n    <tr>\n      <th>950</th>\n      <td>1974-09-01 00:00:00</td>\n      <td>1974</td>\n      <td>Unprovoked</td>\n      <td>USA</td>\n      <td>Oregon</td>\n      <td>Myers Creek</td>\n      <td>Board involved</td>\n      <td>M</td>\n      <td>24</td>\n      <td>0</td>\n      <td>Morning</td>\n      <td>White</td>\n    </tr>\n    <tr>\n      <th>325</th>\n      <td>2008-03-23 00:00:00</td>\n      <td>2008</td>\n      <td>Unprovoked</td>\n      <td>USA</td>\n      <td>Florida</td>\n      <td>South of Ponce de Leon Jetty, New Smyrna Beach...</td>\n      <td>Swimming/Diving</td>\n      <td>M</td>\n      <td>13</td>\n      <td>0</td>\n      <td>11.30.00 AM</td>\n      <td>Unidentified species</td>\n    </tr>\n    <tr>\n      <th>880</th>\n      <td>1983-01-08 00:00:00</td>\n      <td>1983</td>\n      <td>Unprovoked</td>\n      <td>SOUTH AFRICA</td>\n      <td>Western Cape Province</td>\n      <td>holbaai</td>\n      <td>Fishing</td>\n      <td>M</td>\n      <td>32</td>\n      <td>0</td>\n      <td>1.00.00 PM</td>\n      <td>White</td>\n    </tr>\n    <tr>\n      <th>837</th>\n      <td>1986-01-12 00:00:00</td>\n      <td>1986</td>\n      <td>Unprovoked</td>\n      <td>USA</td>\n      <td>Florida</td>\n      <td>Singer Island, Riviera Beach, Palm Beach County</td>\n      <td>Board involved</td>\n      <td>M</td>\n      <td>22</td>\n      <td>0</td>\n      <td>8.35.00 AM</td>\n      <td>Blacktip</td>\n    </tr>\n    <tr>\n      <th>41</th>\n      <td>2016-11-28 00:00:00</td>\n      <td>2016</td>\n      <td>Provoked</td>\n      <td>AUSTRALIA</td>\n      <td>Victoria</td>\n      <td>Queenscliff</td>\n      <td>Fishing</td>\n      <td>M</td>\n      <td>73</td>\n      <td>0</td>\n      <td>11.00.00 AM</td>\n      <td>Sevengill</td>\n    </tr>\n    <tr>\n      <th>708</th>\n      <td>1995-08-25 00:00:00</td>\n      <td>1995</td>\n      <td>Unprovoked</td>\n      <td>USA</td>\n      <td>North Carolina</td>\n      <td>Off Masonboro Island, New hanover County</td>\n      <td>Swimming/Diving</td>\n      <td>M</td>\n      <td>16</td>\n      <td>0</td>\n      <td>Night</td>\n      <td>Unidentified species</td>\n    </tr>\n    <tr>\n      <th>192</th>\n      <td>2012-03-06 00:00:00</td>\n      <td>2012</td>\n      <td>Provoked</td>\n      <td>AUSTRALIA</td>\n      <td>Victoria</td>\n      <td>Shipwreck Cove, Melbourne Aquarium</td>\n      <td>Shark involved</td>\n      <td>F</td>\n      <td>34</td>\n      <td>0</td>\n      <td>11.30.00 AM</td>\n      <td>Nurse</td>\n    </tr>\n  </tbody>\n</table>\n</div>"
     },
     "execution_count": 3,
     "metadata": {},
     "output_type": "execute_result"
    }
   ],
   "source": [
    "shark.sample(10)"
   ],
   "metadata": {
    "collapsed": false,
    "pycharm": {
     "name": "#%%\n"
    }
   }
  },
  {
   "cell_type": "code",
   "execution_count": 4,
   "outputs": [],
   "source": [
    "columns = {} # creating a mapper dictionary to change the names of my columns from uppercase to lowercase, this is just for my ease of use!\n",
    "for column in shark.columns:\n",
    "    columns[column] = column.lower()"
   ],
   "metadata": {
    "collapsed": false,
    "pycharm": {
     "name": "#%%\n"
    }
   }
  },
  {
   "cell_type": "code",
   "execution_count": 5,
   "outputs": [],
   "source": [
    "shark.rename(columns = columns, inplace = True)"
   ],
   "metadata": {
    "collapsed": false,
    "pycharm": {
     "name": "#%%\n"
    }
   }
  },
  {
   "cell_type": "code",
   "execution_count": 6,
   "outputs": [
    {
     "name": "stdout",
     "output_type": "stream",
     "text": [
      "<class 'pandas.core.frame.DataFrame'>\n",
      "RangeIndex: 1198 entries, 0 to 1197\n",
      "Data columns (total 12 columns):\n",
      " #   Column    Non-Null Count  Dtype \n",
      "---  ------    --------------  ----- \n",
      " 0   date      1198 non-null   object\n",
      " 1   year      1198 non-null   int64 \n",
      " 2   type      1198 non-null   object\n",
      " 3   country   1198 non-null   object\n",
      " 4   area      1198 non-null   object\n",
      " 5   location  1198 non-null   object\n",
      " 6   activity  1198 non-null   object\n",
      " 7   sex       1198 non-null   object\n",
      " 8   age       1198 non-null   object\n",
      " 9   fatal     1198 non-null   int64 \n",
      " 10  time      1192 non-null   object\n",
      " 11  species   1198 non-null   object\n",
      "dtypes: int64(2), object(10)\n",
      "memory usage: 112.4+ KB\n"
     ]
    }
   ],
   "source": [
    "shark.info() # printing out general info of our dataframe to see which columns need work"
   ],
   "metadata": {
    "collapsed": false,
    "pycharm": {
     "name": "#%%\n"
    }
   }
  },
  {
   "cell_type": "code",
   "execution_count": 7,
   "outputs": [
    {
     "data": {
      "text/plain": "count    1198.000000\nmean     1991.931553\nstd        23.287287\nmin      1880.000000\n25%      1981.000000\n50%      2000.000000\n75%      2009.000000\nmax      2018.000000\nName: year, dtype: float64"
     },
     "execution_count": 7,
     "metadata": {},
     "output_type": "execute_result"
    }
   ],
   "source": [
    "shark.year.describe() #year column seems to be all integer values which is great for now"
   ],
   "metadata": {
    "collapsed": false,
    "pycharm": {
     "name": "#%%\n"
    }
   }
  },
  {
   "cell_type": "code",
   "execution_count": 8,
   "outputs": [
    {
     "data": {
      "text/plain": "array(['Unprovoked', 'Provoked', 'Boating', 'Invalid', 'Sea Disaster'],\n      dtype=object)"
     },
     "execution_count": 8,
     "metadata": {},
     "output_type": "execute_result"
    }
   ],
   "source": [
    "shark.type.unique() # from here we can see that there are four values in type, each associated with the type of attack"
   ],
   "metadata": {
    "collapsed": false,
    "pycharm": {
     "name": "#%%\n"
    }
   }
  },
  {
   "cell_type": "code",
   "execution_count": 9,
   "outputs": [
    {
     "data": {
      "text/plain": "Unprovoked      1087\nProvoked          89\nBoating           15\nSea Disaster       4\nInvalid            3\nName: type, dtype: int64"
     },
     "execution_count": 9,
     "metadata": {},
     "output_type": "execute_result"
    }
   ],
   "source": [
    "shark.type.value_counts() # here we can see that Unprovoked is the most common kind of attack"
   ],
   "metadata": {
    "collapsed": false,
    "pycharm": {
     "name": "#%%\n"
    }
   }
  },
  {
   "cell_type": "code",
   "execution_count": 10,
   "outputs": [
    {
     "data": {
      "text/plain": "                    date  year     type    country               area  \\\n109  2015-06-24 00:00:00  2015  Invalid  AUSTRALIA  Western Australia   \n308  2009-09-12 00:00:00  2009  Invalid        USA     North Carolina   \n593  2001-09-16 00:00:00  2001  Invalid        USA            Florida   \n\n                                      location         activity sex age  \\\n109                                    Denmark   Board involved   F  37   \n308                  Corolla, Currituck County  Swimming/Diving   M  60   \n593  2 miles off Pompano Beach, Broward County  Swimming/Diving   M  42   \n\n     fatal        time               species  \n109      0  9.30.00 AM                 White  \n308      1  9.00.00 PM  Unidentified species  \n593      1  1.20.00 PM  Unidentified species  ",
      "text/html": "<div>\n<style scoped>\n    .dataframe tbody tr th:only-of-type {\n        vertical-align: middle;\n    }\n\n    .dataframe tbody tr th {\n        vertical-align: top;\n    }\n\n    .dataframe thead th {\n        text-align: right;\n    }\n</style>\n<table border=\"1\" class=\"dataframe\">\n  <thead>\n    <tr style=\"text-align: right;\">\n      <th></th>\n      <th>date</th>\n      <th>year</th>\n      <th>type</th>\n      <th>country</th>\n      <th>area</th>\n      <th>location</th>\n      <th>activity</th>\n      <th>sex</th>\n      <th>age</th>\n      <th>fatal</th>\n      <th>time</th>\n      <th>species</th>\n    </tr>\n  </thead>\n  <tbody>\n    <tr>\n      <th>109</th>\n      <td>2015-06-24 00:00:00</td>\n      <td>2015</td>\n      <td>Invalid</td>\n      <td>AUSTRALIA</td>\n      <td>Western Australia</td>\n      <td>Denmark</td>\n      <td>Board involved</td>\n      <td>F</td>\n      <td>37</td>\n      <td>0</td>\n      <td>9.30.00 AM</td>\n      <td>White</td>\n    </tr>\n    <tr>\n      <th>308</th>\n      <td>2009-09-12 00:00:00</td>\n      <td>2009</td>\n      <td>Invalid</td>\n      <td>USA</td>\n      <td>North Carolina</td>\n      <td>Corolla, Currituck County</td>\n      <td>Swimming/Diving</td>\n      <td>M</td>\n      <td>60</td>\n      <td>1</td>\n      <td>9.00.00 PM</td>\n      <td>Unidentified species</td>\n    </tr>\n    <tr>\n      <th>593</th>\n      <td>2001-09-16 00:00:00</td>\n      <td>2001</td>\n      <td>Invalid</td>\n      <td>USA</td>\n      <td>Florida</td>\n      <td>2 miles off Pompano Beach, Broward County</td>\n      <td>Swimming/Diving</td>\n      <td>M</td>\n      <td>42</td>\n      <td>1</td>\n      <td>1.20.00 PM</td>\n      <td>Unidentified species</td>\n    </tr>\n  </tbody>\n</table>\n</div>"
     },
     "execution_count": 10,
     "metadata": {},
     "output_type": "execute_result"
    }
   ],
   "source": [
    "shark.loc[shark.type == \"Invalid\"] # since there are only three values I will fill in these values with the most frequent value of the four categorical variables"
   ],
   "metadata": {
    "collapsed": false,
    "pycharm": {
     "name": "#%%\n"
    }
   }
  },
  {
   "cell_type": "code",
   "execution_count": 11,
   "outputs": [
    {
     "name": "stderr",
     "output_type": "stream",
     "text": [
      "C:\\Users\\pedro\\AppData\\Local\\Temp\\ipykernel_5268\\3640998759.py:1: SettingWithCopyWarning: \n",
      "A value is trying to be set on a copy of a slice from a DataFrame\n",
      "\n",
      "See the caveats in the documentation: https://pandas.pydata.org/pandas-docs/stable/user_guide/indexing.html#returning-a-view-versus-a-copy\n",
      "  shark.type[[109,308,593]] = \"Unprovoked\" # updating the values of these 3 entries\n"
     ]
    }
   ],
   "source": [
    "shark.type[[109,308,593]] = \"Unprovoked\" # updating the values of these 3 entries"
   ],
   "metadata": {
    "collapsed": false,
    "pycharm": {
     "name": "#%%\n"
    }
   }
  },
  {
   "cell_type": "code",
   "execution_count": 12,
   "outputs": [
    {
     "data": {
      "text/plain": "Unprovoked      1090\nProvoked          89\nBoating           15\nSea Disaster       4\nName: type, dtype: int64"
     },
     "execution_count": 12,
     "metadata": {},
     "output_type": "execute_result"
    }
   ],
   "source": [
    "shark.type.value_counts() # checking our new value counts for our updated values"
   ],
   "metadata": {
    "collapsed": false,
    "pycharm": {
     "name": "#%%\n"
    }
   }
  },
  {
   "cell_type": "code",
   "execution_count": 13,
   "outputs": [
    {
     "name": "stdout",
     "output_type": "stream",
     "text": [
      "<class 'pandas.core.frame.DataFrame'>\n",
      "RangeIndex: 1198 entries, 0 to 1197\n",
      "Data columns (total 12 columns):\n",
      " #   Column    Non-Null Count  Dtype \n",
      "---  ------    --------------  ----- \n",
      " 0   date      1198 non-null   object\n",
      " 1   year      1198 non-null   int64 \n",
      " 2   type      1198 non-null   object\n",
      " 3   country   1198 non-null   object\n",
      " 4   area      1198 non-null   object\n",
      " 5   location  1198 non-null   object\n",
      " 6   activity  1198 non-null   object\n",
      " 7   sex       1198 non-null   object\n",
      " 8   age       1198 non-null   object\n",
      " 9   fatal     1198 non-null   int64 \n",
      " 10  time      1192 non-null   object\n",
      " 11  species   1198 non-null   object\n",
      "dtypes: int64(2), object(10)\n",
      "memory usage: 112.4+ KB\n"
     ]
    }
   ],
   "source": [
    "shark.info()"
   ],
   "metadata": {
    "collapsed": false,
    "pycharm": {
     "name": "#%%\n"
    }
   }
  },
  {
   "cell_type": "code",
   "execution_count": 14,
   "outputs": [
    {
     "data": {
      "text/plain": "Afternoon      59\n11.00.00 AM    55\n4.30.00 PM     43\n4.00.00 PM     42\nMorning        42\n               ..\n6.50.00 PM      1\n1.55.00 PM      1\n9.00.00 PM      1\n15j45           1\n                1\nName: time, Length: 185, dtype: int64"
     },
     "execution_count": 14,
     "metadata": {},
     "output_type": "execute_result"
    }
   ],
   "source": [
    "shark[\"time\"].value_counts()"
   ],
   "metadata": {
    "collapsed": false,
    "pycharm": {
     "name": "#%%\n"
    }
   }
  },
  {
   "cell_type": "markdown",
   "source": [
    "### A lot of work needs to be done to clean up this time column to be ready to convert use a one hot encoder"
   ],
   "metadata": {
    "collapsed": false,
    "pycharm": {
     "name": "#%% md\n"
    }
   }
  },
  {
   "cell_type": "code",
   "execution_count": 15,
   "outputs": [],
   "source": [
    "time_list = [\"Early morning\", \"Just before sundown\", \"Before 07.00\", \"Midday\", \"Early afternoon\", \"Morning\", \"After noon\", \"4/9/1902  12.00.00 AM\", \"Afternoon\", \"Morning\", \"Night\", \"Evening\"]"
   ],
   "metadata": {
    "collapsed": false,
    "pycharm": {
     "name": "#%%\n"
    }
   }
  },
  {
   "cell_type": "code",
   "execution_count": 16,
   "outputs": [],
   "source": [
    "from datetime import datetime\n",
    "# defining a function to convert am and pm time to 24 hour time\n",
    "def strip_am_pm(time_string):\n",
    "    in_time = datetime.strptime(time_string, \"%I:%M %p\")\n",
    "    out_time = datetime.strftime(in_time, \"%H:%M\")\n",
    "    return(out_time)"
   ],
   "metadata": {
    "collapsed": false,
    "pycharm": {
     "name": "#%%\n"
    }
   }
  },
  {
   "cell_type": "code",
   "execution_count": 17,
   "outputs": [],
   "source": [
    "# shark[\"time\"].apply(lambda time: strip_am_pm(time))"
   ],
   "metadata": {
    "collapsed": false,
    "pycharm": {
     "name": "#%%\n"
    }
   }
  },
  {
   "cell_type": "code",
   "execution_count": 18,
   "outputs": [
    {
     "data": {
      "text/plain": "                  date  year        type    country             area  \\\n0  2018-05-26 00:00:00  2018  Unprovoked        USA          Florida   \n1  2018-02-15 00:00:00  2018  Unprovoked  AUSTRALIA  New South Wales   \n2  2018-05-24 00:00:00  2018    Provoked  AUSTRALIA       Queensland   \n3  2018-03-31 00:00:00  2018  Unprovoked        USA           hawaii   \n4  2018-03-09 00:00:00  2018  Unprovoked  AUSTRALIA         Victoria   \n\n                       location         activity sex age  fatal        time  \\\n0  Cocoa Beach, Brevard  County  Swimming/Diving   M  15      0     5.00 PM   \n1             Surf Beach, Kiama  Swimming/Diving   M  35      0  4.00.00 PM   \n2               Cairns Aquarium   Shark involved   M  32      0     Morning   \n3                   Kukio Beach   Board involved   M  25      0  9.30.00 AM   \n4                      Winkipop   Board involved   M  18      0  7.30.00 AM   \n\n                species  \n0                  Bull  \n1                  Bull  \n2             Grey reef  \n3                 Tiger  \n4  Unidentified species  ",
      "text/html": "<div>\n<style scoped>\n    .dataframe tbody tr th:only-of-type {\n        vertical-align: middle;\n    }\n\n    .dataframe tbody tr th {\n        vertical-align: top;\n    }\n\n    .dataframe thead th {\n        text-align: right;\n    }\n</style>\n<table border=\"1\" class=\"dataframe\">\n  <thead>\n    <tr style=\"text-align: right;\">\n      <th></th>\n      <th>date</th>\n      <th>year</th>\n      <th>type</th>\n      <th>country</th>\n      <th>area</th>\n      <th>location</th>\n      <th>activity</th>\n      <th>sex</th>\n      <th>age</th>\n      <th>fatal</th>\n      <th>time</th>\n      <th>species</th>\n    </tr>\n  </thead>\n  <tbody>\n    <tr>\n      <th>0</th>\n      <td>2018-05-26 00:00:00</td>\n      <td>2018</td>\n      <td>Unprovoked</td>\n      <td>USA</td>\n      <td>Florida</td>\n      <td>Cocoa Beach, Brevard  County</td>\n      <td>Swimming/Diving</td>\n      <td>M</td>\n      <td>15</td>\n      <td>0</td>\n      <td>5.00 PM</td>\n      <td>Bull</td>\n    </tr>\n    <tr>\n      <th>1</th>\n      <td>2018-02-15 00:00:00</td>\n      <td>2018</td>\n      <td>Unprovoked</td>\n      <td>AUSTRALIA</td>\n      <td>New South Wales</td>\n      <td>Surf Beach, Kiama</td>\n      <td>Swimming/Diving</td>\n      <td>M</td>\n      <td>35</td>\n      <td>0</td>\n      <td>4.00.00 PM</td>\n      <td>Bull</td>\n    </tr>\n    <tr>\n      <th>2</th>\n      <td>2018-05-24 00:00:00</td>\n      <td>2018</td>\n      <td>Provoked</td>\n      <td>AUSTRALIA</td>\n      <td>Queensland</td>\n      <td>Cairns Aquarium</td>\n      <td>Shark involved</td>\n      <td>M</td>\n      <td>32</td>\n      <td>0</td>\n      <td>Morning</td>\n      <td>Grey reef</td>\n    </tr>\n    <tr>\n      <th>3</th>\n      <td>2018-03-31 00:00:00</td>\n      <td>2018</td>\n      <td>Unprovoked</td>\n      <td>USA</td>\n      <td>hawaii</td>\n      <td>Kukio Beach</td>\n      <td>Board involved</td>\n      <td>M</td>\n      <td>25</td>\n      <td>0</td>\n      <td>9.30.00 AM</td>\n      <td>Tiger</td>\n    </tr>\n    <tr>\n      <th>4</th>\n      <td>2018-03-09 00:00:00</td>\n      <td>2018</td>\n      <td>Unprovoked</td>\n      <td>AUSTRALIA</td>\n      <td>Victoria</td>\n      <td>Winkipop</td>\n      <td>Board involved</td>\n      <td>M</td>\n      <td>18</td>\n      <td>0</td>\n      <td>7.30.00 AM</td>\n      <td>Unidentified species</td>\n    </tr>\n  </tbody>\n</table>\n</div>"
     },
     "execution_count": 18,
     "metadata": {},
     "output_type": "execute_result"
    }
   ],
   "source": [
    "shark.head()"
   ],
   "metadata": {
    "collapsed": false,
    "pycharm": {
     "name": "#%%\n"
    }
   }
  },
  {
   "cell_type": "code",
   "execution_count": 19,
   "outputs": [
    {
     "data": {
      "text/plain": "Index(['date', 'year', 'type', 'country', 'area', 'location', 'activity',\n       'sex', 'age', 'fatal', 'time', 'species'],\n      dtype='object')"
     },
     "execution_count": 19,
     "metadata": {},
     "output_type": "execute_result"
    }
   ],
   "source": [
    "shark.columns"
   ],
   "metadata": {
    "collapsed": false,
    "pycharm": {
     "name": "#%%\n"
    }
   }
  },
  {
   "cell_type": "code",
   "execution_count": 20,
   "outputs": [],
   "source": [
    "shark_clean = shark[['type', 'country', 'activity',\n",
    "       'sex', 'fatal', 'species']]"
   ],
   "metadata": {
    "collapsed": false,
    "pycharm": {
     "name": "#%%\n"
    }
   }
  },
  {
   "cell_type": "code",
   "execution_count": 21,
   "outputs": [],
   "source": [
    "X = shark_clean.drop(columns = [\"fatal\"])\n",
    "y = shark_clean[\"fatal\"]"
   ],
   "metadata": {
    "collapsed": false,
    "pycharm": {
     "name": "#%%\n"
    }
   }
  },
  {
   "cell_type": "code",
   "execution_count": 22,
   "outputs": [],
   "source": [
    "from sklearn.preprocessing import OneHotEncoder\n",
    "\n",
    "OHE = OneHotEncoder(drop = \"first\")\n",
    "\n",
    "X_encoded = OHE.fit_transform(X)"
   ],
   "metadata": {
    "collapsed": false,
    "pycharm": {
     "name": "#%%\n"
    }
   }
  },
  {
   "cell_type": "code",
   "execution_count": 23,
   "outputs": [],
   "source": [
    "shark_encoded_age = pd.DataFrame(X_encoded.todense()).join(shark.age)"
   ],
   "metadata": {
    "collapsed": false,
    "pycharm": {
     "name": "#%%\n"
    }
   }
  },
  {
   "cell_type": "code",
   "execution_count": 41,
   "outputs": [],
   "source": [
    "logistic_model = LogisticRegressionCV()\n",
    "\n",
    "X_train, X_test, y_train, y_test = train_test_split(X_encoded, y, test_size=0.4, random_state=42, stratify= y )\n",
    "\n",
    "model.fit(X_train, y_train) # tell it known stuff\n",
    "\n",
    "y_predict = model.predict(X_test) # given future input, predict future output!"
   ],
   "metadata": {
    "collapsed": false,
    "pycharm": {
     "name": "#%%\n"
    }
   }
  },
  {
   "cell_type": "code",
   "execution_count": 48,
   "outputs": [
    {
     "name": "stdout",
     "output_type": "stream",
     "text": [
      "              precision    recall  f1-score   support\n",
      "\n",
      "           0       0.90      0.95      0.93       413\n",
      "           1       0.55      0.34      0.42        67\n",
      "\n",
      "    accuracy                           0.87       480\n",
      "   macro avg       0.72      0.65      0.67       480\n",
      "weighted avg       0.85      0.87      0.86       480\n",
      "\n"
     ]
    }
   ],
   "source": [
    "print(classification_report(y_test, y_predict, output_dict = False\n",
    "                    ))"
   ],
   "metadata": {
    "collapsed": false,
    "pycharm": {
     "name": "#%%\n"
    }
   }
  },
  {
   "cell_type": "markdown",
   "source": [
    "## So lets try to print out our f1 score and see how well our baseline model did?"
   ],
   "metadata": {
    "collapsed": false,
    "pycharm": {
     "name": "#%% md\n"
    }
   }
  },
  {
   "cell_type": "code",
   "execution_count": 43,
   "outputs": [
    {
     "data": {
      "text/plain": "0.4220183486238532"
     },
     "execution_count": 43,
     "metadata": {},
     "output_type": "execute_result"
    }
   ],
   "source": [
    "f1_score(y_test, y_predict) # Not too great!"
   ],
   "metadata": {
    "collapsed": false,
    "pycharm": {
     "name": "#%%\n"
    }
   }
  },
  {
   "cell_type": "code",
   "execution_count": 46,
   "outputs": [
    {
     "name": "stderr",
     "output_type": "stream",
     "text": [
      "C:\\Users\\pedro\\anaconda3\\Lib\\site-packages\\sklearn\\utils\\deprecation.py:87: FutureWarning: Function plot_confusion_matrix is deprecated; Function `plot_confusion_matrix` is deprecated in 1.0 and will be removed in 1.2. Use one of the class methods: ConfusionMatrixDisplay.from_predictions or ConfusionMatrixDisplay.from_estimator.\n",
      "  warnings.warn(msg, category=FutureWarning)\n"
     ]
    },
    {
     "data": {
      "text/plain": "<sklearn.metrics._plot.confusion_matrix.ConfusionMatrixDisplay at 0x28ae67ff400>"
     },
     "execution_count": 46,
     "metadata": {},
     "output_type": "execute_result"
    },
    {
     "data": {
      "text/plain": "<Figure size 640x480 with 2 Axes>",
      "image/png": "[encoded data removed]"
     },
     "metadata": {},
     "output_type": "display_data"
    }
   ],
   "source": [
    "plot_confusion_matrix(model, X_test, y_test) ## remember we are focused on our true positives here and should be focused on prediciting if a shark encounter will indeed be fatal"
   ],
   "metadata": {
    "collapsed": false,
    "pycharm": {
     "name": "#%%\n"
    }
   }
  },
  {
   "cell_type": "markdown",
   "source": [
    "## Lets try to used a more complicated model"
   ],
   "metadata": {
    "collapsed": false,
    "pycharm": {
     "name": "#%% md\n"
    }
   }
  },
  {
   "cell_type": "code",
   "execution_count": 46,
   "outputs": [],
   "source": [],
   "metadata": {
    "collapsed": false,
    "pycharm": {
     "name": "#%%\n"
    }
   }
  }
 ],
 "metadata": {
  "kernelspec": {
   "display_name": "Python 3",
   "language": "python",
   "name": "python3"
  },
  "language_info": {
   "codemirror_mode": {
    "name": "ipython",
    "version": 2
   },
   "file_extension": ".py",
   "mimetype": "text/x-python",
   "name": "python",
   "nbconvert_exporter": "python",
   "pygments_lexer": "ipython2",
   "version": "2.7.6"
  }
 },
 "nbformat": 4,
 "nbformat_minor": 0
}
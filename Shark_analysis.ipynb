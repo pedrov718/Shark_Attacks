{
 "cells": [
  {
   "cell_type": "code",
   "execution_count": 259,
   "id": "3f187c12-0b0d-40cd-a2b2-4fd008ae1c7a",
   "metadata": {
    "pycharm": {
     "name": "#%%\n"
    }
   },
   "outputs": [],
   "source": [
    "import pandas as pd\n",
    "import numpy as np\n",
    "import matplotlib.pyplot as plt\n",
    "import seaborn as sns\n",
    "import datetime\n",
    "from   sklearn.linear_model import LinearRegression, LogisticRegression\n",
    "from   sklearn.model_selection import train_test_split\n",
    "import statsmodels.formula.api as smf\n",
    "from sklearn.model_selection import cross_validate, cross_val_score\n",
    "from sklearn.neighbors import KNeighborsClassifier\n",
    "from sklearn.tree import DecisionTreeClassifier\n",
    "from sklearn.neighbors import KNeighborsClassifier\n",
    "from sklearn.naive_bayes import MultinomialNB"
   ]
  },
  {
   "cell_type": "code",
   "execution_count": 260,
   "id": "f3fca4d8-a90b-417e-9cd0-72fe9a1fd157",
   "metadata": {
    "pycharm": {
     "name": "#%%\n"
    }
   },
   "outputs": [
    {
     "name": "stderr",
     "output_type": "stream",
     "text": [
      "C:\\Users\\pedro\\anaconda3\\lib\\site-packages\\openpyxl\\worksheet\\_reader.py:211: UserWarning: Cell A1048576 is marked as a date but the serial value 14707374 is outside the limits for dates. The cell will be treated as an error.\n",
      "  warn(msg)\n"
     ]
    }
   ],
   "source": [
    "shark_data = pd.read_excel(\"shark_attack_data_cleaned.xlsx\", nrows = 1198)"
   ]
  },
  {
   "cell_type": "code",
   "execution_count": 261,
   "id": "d8b24678-6830-4875-a194-8d213fdf1048",
   "metadata": {
    "pycharm": {
     "name": "#%%\n"
    }
   },
   "outputs": [],
   "source": [
    "shark_data.Date = pd.to_datetime(shark_data.Date)"
   ]
  },
  {
   "cell_type": "code",
   "execution_count": 262,
   "id": "a545ef2e-bd25-4cc7-8069-43fb7b8dc1f5",
   "metadata": {
    "pycharm": {
     "name": "#%%\n"
    }
   },
   "outputs": [
    {
     "data": {
      "text/html": [
       "<div>\n",
       "<style scoped>\n",
       "    .dataframe tbody tr th:only-of-type {\n",
       "        vertical-align: middle;\n",
       "    }\n",
       "\n",
       "    .dataframe tbody tr th {\n",
       "        vertical-align: top;\n",
       "    }\n",
       "\n",
       "    .dataframe thead th {\n",
       "        text-align: right;\n",
       "    }\n",
       "</style>\n",
       "<table border=\"1\" class=\"dataframe\">\n",
       "  <thead>\n",
       "    <tr style=\"text-align: right;\">\n",
       "      <th></th>\n",
       "      <th>Date</th>\n",
       "      <th>Year</th>\n",
       "      <th>Type</th>\n",
       "      <th>Country</th>\n",
       "      <th>Area</th>\n",
       "      <th>Location</th>\n",
       "      <th>Activity</th>\n",
       "      <th>Sex</th>\n",
       "      <th>Age</th>\n",
       "      <th>Fatal</th>\n",
       "      <th>Species</th>\n",
       "    </tr>\n",
       "  </thead>\n",
       "  <tbody>\n",
       "    <tr>\n",
       "      <th>0</th>\n",
       "      <td>2018-06-25</td>\n",
       "      <td>2018</td>\n",
       "      <td>Boating</td>\n",
       "      <td>USA</td>\n",
       "      <td>California</td>\n",
       "      <td>Oceanside, San Diego County</td>\n",
       "      <td>Board involved</td>\n",
       "      <td>F</td>\n",
       "      <td>57</td>\n",
       "      <td>0</td>\n",
       "      <td>White</td>\n",
       "    </tr>\n",
       "    <tr>\n",
       "      <th>1</th>\n",
       "      <td>2018-05-26</td>\n",
       "      <td>2018</td>\n",
       "      <td>Unprovoked</td>\n",
       "      <td>USA</td>\n",
       "      <td>Florida</td>\n",
       "      <td>Cocoa Beach, Brevard  County</td>\n",
       "      <td>Swimming/Diving</td>\n",
       "      <td>M</td>\n",
       "      <td>15</td>\n",
       "      <td>0</td>\n",
       "      <td>Bull</td>\n",
       "    </tr>\n",
       "    <tr>\n",
       "      <th>2</th>\n",
       "      <td>2018-05-24</td>\n",
       "      <td>2018</td>\n",
       "      <td>Provoked</td>\n",
       "      <td>AUSTRALIA</td>\n",
       "      <td>Queensland</td>\n",
       "      <td>Cairns Aquarium</td>\n",
       "      <td>Shark involved</td>\n",
       "      <td>M</td>\n",
       "      <td>32</td>\n",
       "      <td>0</td>\n",
       "      <td>Grey reef</td>\n",
       "    </tr>\n",
       "    <tr>\n",
       "      <th>3</th>\n",
       "      <td>2018-04-25</td>\n",
       "      <td>2018</td>\n",
       "      <td>Unprovoked</td>\n",
       "      <td>AUSTRALIA</td>\n",
       "      <td>Western Australia</td>\n",
       "      <td>Surfers Point, Prevelly</td>\n",
       "      <td>Board involved</td>\n",
       "      <td>M</td>\n",
       "      <td>60</td>\n",
       "      <td>0</td>\n",
       "      <td>Unidentified species</td>\n",
       "    </tr>\n",
       "    <tr>\n",
       "      <th>4</th>\n",
       "      <td>2018-04-22</td>\n",
       "      <td>2018</td>\n",
       "      <td>Unprovoked</td>\n",
       "      <td>SOUTH AFRICA</td>\n",
       "      <td>Western Cape Province</td>\n",
       "      <td>Robberg Beach, Plettenberg Bay</td>\n",
       "      <td>Board involved</td>\n",
       "      <td>M</td>\n",
       "      <td>33</td>\n",
       "      <td>0</td>\n",
       "      <td>White</td>\n",
       "    </tr>\n",
       "    <tr>\n",
       "      <th>...</th>\n",
       "      <td>...</td>\n",
       "      <td>...</td>\n",
       "      <td>...</td>\n",
       "      <td>...</td>\n",
       "      <td>...</td>\n",
       "      <td>...</td>\n",
       "      <td>...</td>\n",
       "      <td>...</td>\n",
       "      <td>...</td>\n",
       "      <td>...</td>\n",
       "      <td>...</td>\n",
       "    </tr>\n",
       "    <tr>\n",
       "      <th>1193</th>\n",
       "      <td>1905-03-26</td>\n",
       "      <td>1905</td>\n",
       "      <td>Unprovoked</td>\n",
       "      <td>AUSTRALIA</td>\n",
       "      <td>New South Wales</td>\n",
       "      <td>Lismore</td>\n",
       "      <td>Swimming/Diving</td>\n",
       "      <td>M</td>\n",
       "      <td>40</td>\n",
       "      <td>0</td>\n",
       "      <td>Unidentified species</td>\n",
       "    </tr>\n",
       "    <tr>\n",
       "      <th>1194</th>\n",
       "      <td>1901-07-30</td>\n",
       "      <td>1901</td>\n",
       "      <td>Unprovoked</td>\n",
       "      <td>SOUTH AFRICA</td>\n",
       "      <td>Western Cape Province</td>\n",
       "      <td>Windmill Beach</td>\n",
       "      <td>Swimming/Diving</td>\n",
       "      <td>M</td>\n",
       "      <td>29</td>\n",
       "      <td>1</td>\n",
       "      <td>White</td>\n",
       "    </tr>\n",
       "    <tr>\n",
       "      <th>1195</th>\n",
       "      <td>1894-11-28</td>\n",
       "      <td>1894</td>\n",
       "      <td>Unprovoked</td>\n",
       "      <td>AUSTRALIA</td>\n",
       "      <td>New South Wales</td>\n",
       "      <td>Newcastle</td>\n",
       "      <td>Swimming/Diving</td>\n",
       "      <td>M</td>\n",
       "      <td>19</td>\n",
       "      <td>0</td>\n",
       "      <td>Unidentified species</td>\n",
       "    </tr>\n",
       "    <tr>\n",
       "      <th>1196</th>\n",
       "      <td>1892-03-02</td>\n",
       "      <td>1892</td>\n",
       "      <td>Provoked</td>\n",
       "      <td>AUSTRALIA</td>\n",
       "      <td>New South Wales</td>\n",
       "      <td>Lake Macquarie</td>\n",
       "      <td>Fishing</td>\n",
       "      <td>M</td>\n",
       "      <td>21</td>\n",
       "      <td>0</td>\n",
       "      <td>Unidentified species</td>\n",
       "    </tr>\n",
       "    <tr>\n",
       "      <th>1197</th>\n",
       "      <td>1880-11-25</td>\n",
       "      <td>1880</td>\n",
       "      <td>Unprovoked</td>\n",
       "      <td>AUSTRALIA</td>\n",
       "      <td>Queensland</td>\n",
       "      <td>Petrie Bight, Brisbane River</td>\n",
       "      <td>Swimming/Diving</td>\n",
       "      <td>M</td>\n",
       "      <td>12</td>\n",
       "      <td>1</td>\n",
       "      <td>Bull</td>\n",
       "    </tr>\n",
       "  </tbody>\n",
       "</table>\n",
       "<p>1198 rows × 11 columns</p>\n",
       "</div>"
      ],
      "text/plain": [
       "           Date  Year        Type       Country                   Area  \\\n",
       "0    2018-06-25  2018     Boating           USA             California   \n",
       "1    2018-05-26  2018  Unprovoked           USA                Florida   \n",
       "2    2018-05-24  2018    Provoked     AUSTRALIA             Queensland   \n",
       "3    2018-04-25  2018  Unprovoked     AUSTRALIA      Western Australia   \n",
       "4    2018-04-22  2018  Unprovoked  SOUTH AFRICA  Western Cape Province   \n",
       "...         ...   ...         ...           ...                    ...   \n",
       "1193 1905-03-26  1905  Unprovoked     AUSTRALIA        New South Wales   \n",
       "1194 1901-07-30  1901  Unprovoked  SOUTH AFRICA  Western Cape Province   \n",
       "1195 1894-11-28  1894  Unprovoked     AUSTRALIA        New South Wales   \n",
       "1196 1892-03-02  1892    Provoked     AUSTRALIA        New South Wales   \n",
       "1197 1880-11-25  1880  Unprovoked     AUSTRALIA             Queensland   \n",
       "\n",
       "                            Location         Activity Sex Age  Fatal  \\\n",
       "0        Oceanside, San Diego County   Board involved   F  57      0   \n",
       "1       Cocoa Beach, Brevard  County  Swimming/Diving   M  15      0   \n",
       "2                    Cairns Aquarium   Shark involved   M  32      0   \n",
       "3            Surfers Point, Prevelly   Board involved   M  60      0   \n",
       "4     Robberg Beach, Plettenberg Bay   Board involved   M  33      0   \n",
       "...                              ...              ...  ..  ..    ...   \n",
       "1193                         Lismore  Swimming/Diving   M  40      0   \n",
       "1194                  Windmill Beach  Swimming/Diving   M  29      1   \n",
       "1195                      Newcastle   Swimming/Diving   M  19      0   \n",
       "1196                  Lake Macquarie          Fishing   M  21      0   \n",
       "1197    Petrie Bight, Brisbane River  Swimming/Diving   M  12      1   \n",
       "\n",
       "                   Species  \n",
       "0                    White  \n",
       "1                     Bull  \n",
       "2                Grey reef  \n",
       "3     Unidentified species  \n",
       "4                    White  \n",
       "...                    ...  \n",
       "1193  Unidentified species  \n",
       "1194                 White  \n",
       "1195  Unidentified species  \n",
       "1196  Unidentified species  \n",
       "1197                  Bull  \n",
       "\n",
       "[1198 rows x 11 columns]"
      ]
     },
     "execution_count": 262,
     "metadata": {},
     "output_type": "execute_result"
    }
   ],
   "source": [
    "shark_data = shark_data.sort_values(by = \"Date\", ascending = False)\n",
    "shark_data.reset_index(inplace=True)\n",
    "shark_data.drop(columns = [\"index\", \"Time\"])"
   ]
  },
  {
   "cell_type": "code",
   "execution_count": 263,
   "id": "3036f77b-a32e-4ff5-895d-8aae67c695b3",
   "metadata": {
    "pycharm": {
     "name": "#%%\n"
    }
   },
   "outputs": [],
   "source": [
    "shark_data_c = shark_data.loc[shark_data.Species != \"Unidentified species\"]"
   ]
  },
  {
   "cell_type": "code",
   "execution_count": 264,
   "id": "66f177d0-2e15-4411-9196-87e1eadd79b6",
   "metadata": {
    "pycharm": {
     "name": "#%%\n"
    }
   },
   "outputs": [],
   "source": [
    "shark_data_clean = shark_data_c.drop([\"Date\", \"Year\", \"Location\", \"index\", \"Time\"], axis = 1)"
   ]
  },
  {
   "cell_type": "code",
   "execution_count": 265,
   "id": "8faa81cd-d5eb-400d-8659-93668b27dce6",
   "metadata": {
    "pycharm": {
     "name": "#%%\n"
    }
   },
   "outputs": [
    {
     "name": "stdout",
     "output_type": "stream",
     "text": [
      "In order to eventually perform a logistic regression analysis I will only be looking at attacks where the shark can be identified. In 62.10% of shark attaks the shark could not be identified.\n"
     ]
    }
   ],
   "source": [
    "print(f\"In order to eventually perform a logistic regression analysis I will only be looking at attacks where the shark can be identified. \\\n",
    "In {len(shark_data_c)/len(shark_data) *100:.02f}% of shark attaks the shark could not be identified.\") "
   ]
  },
  {
   "cell_type": "markdown",
   "id": "ddd649b7-89d8-4efc-9634-be0d537b0098",
   "metadata": {
    "pycharm": {
     "name": "#%% md\n"
    }
   },
   "source": [
    "## Some preliminary data exploration"
   ]
  },
  {
   "cell_type": "code",
   "execution_count": 266,
   "id": "f9c0587a-5d9e-4345-ad00-463653d79aaf",
   "metadata": {
    "pycharm": {
     "name": "#%%\n"
    }
   },
   "outputs": [
    {
     "name": "stdout",
     "output_type": "stream",
     "text": [
      "Sex\n",
      "F     157\n",
      "M    1041\n",
      "Name: Sex, dtype: int64\n",
      "Attacks on Males number 1041 while females number 156. 86.89% male and 13.02% female.\n"
     ]
    },
    {
     "data": {
      "image/png": "[encoded data removed]",
      "text/plain": [
       "<Figure size 432x288 with 1 Axes>"
      ]
     },
     "metadata": {},
     "output_type": "display_data"
    }
   ],
   "source": [
    "print(shark_data.groupby(\"Sex\")[\"Sex\"].count())\n",
    "print(f\"Attacks on Males number 1041 while females number 156. {1041/len(shark_data)* 100 :.2f}% male and{156/len(shark_data)* 100 : .2f}% female.\")\n",
    "\n",
    "percent_male = 86.82\n",
    "percent_female = 13.01\n",
    "data = [percent_male, percent_female]\n",
    "labels = [\"Male\", \"Female\"]\n",
    "\n",
    "#define Seaborn color palette to use\n",
    "colors = sns.color_palette('pastel')[2:5]\n",
    "\n",
    "#create pie chart\n",
    "plt.pie(data, labels = labels, colors = colors, autopct='%.0f%%')\n",
    "plt.title(\"Percentage of Male Verus Female Attacks\")\n",
    "plt.show()"
   ]
  },
  {
   "cell_type": "code",
   "execution_count": 267,
   "id": "181c9b27-625b-4be2-8825-156566747d06",
   "metadata": {
    "pycharm": {
     "name": "#%%\n"
    }
   },
   "outputs": [
    {
     "data": {
      "text/plain": [
       "Text(0.5, 1.0, 'Number of Shark Attacks By Shark Species')"
      ]
     },
     "execution_count": 267,
     "metadata": {},
     "output_type": "execute_result"
    },
    {
     "data": {
      "image/png": "[encoded data removed]",
      "text/plain": [
       "<Figure size 1440x720 with 1 Axes>"
      ]
     },
     "metadata": {
      "needs_background": "light"
     },
     "output_type": "display_data"
    }
   ],
   "source": [
    "plt.figure(figsize=(20,10))\n",
    "\n",
    "# draw the chart\n",
    "chart = sns.countplot(\n",
    "    data=shark_data_clean.sort_values(by = \"Species\", ascending = True), x = shark_data.Species,\n",
    "    palette='Set1', hue = shark_data.Fatal, \n",
    ")\n",
    "chart.set_xticklabels(\n",
    "    chart.get_xticklabels(), \n",
    "    rotation=45, \n",
    "    horizontalalignment='right',\n",
    "    fontweight='heavy',\n",
    "    fontsize='medium'\n",
    "    \n",
    ")\n",
    "\n",
    "plt.title(\"Number of Shark Attacks By Shark Species\")"
   ]
  },
  {
   "cell_type": "code",
   "execution_count": 268,
   "id": "a4125d23-6d4f-412d-83f3-60a79c75012b",
   "metadata": {
    "pycharm": {
     "name": "#%%\n"
    }
   },
   "outputs": [
    {
     "data": {
      "text/plain": [
       "Text(0.5, 0, 'Attacks by country divided by fatality')"
      ]
     },
     "execution_count": 268,
     "metadata": {},
     "output_type": "execute_result"
    },
    {
     "data": {
      "image/png": "[encoded data removed]",
      "text/plain": [
       "<Figure size 1440x720 with 1 Axes>"
      ]
     },
     "metadata": {
      "needs_background": "light"
     },
     "output_type": "display_data"
    }
   ],
   "source": [
    "# set the figure size\n",
    "plt.figure(figsize=(20,10))\n",
    "\n",
    "# draw the chart\n",
    "chart = sns.countplot(\n",
    "    data=shark_data_clean, x = shark_data.Country,\n",
    "    palette='Set2', hue = shark_data.Fatal, \n",
    ")\n",
    "chart.set_xticklabels(\n",
    "    chart.get_xticklabels(), \n",
    "    rotation=45, \n",
    "    horizontalalignment='right',\n",
    "    fontweight='heavy',\n",
    "    fontsize='medium'\n",
    "    \n",
    ")\n",
    "\n",
    "plt.title(\"Number of Shark Attacks For Top 3 Countries\")\n",
    "plt.xlabel(\"Attacks by country divided by fatality\")"
   ]
  },
  {
   "cell_type": "markdown",
   "id": "311f8eea-00e2-492b-ab9e-284808de78e1",
   "metadata": {
    "tags": [],
    "pycharm": {
     "name": "#%% md\n"
    }
   },
   "source": [
    "## Calculating Base-line Score (What percent of sharks attacks are fatal?)"
   ]
  },
  {
   "cell_type": "code",
   "execution_count": 269,
   "id": "dc02c5c0-52b8-4f51-aa1e-81e657242c88",
   "metadata": {
    "pycharm": {
     "name": "#%%\n"
    }
   },
   "outputs": [
    {
     "name": "stdout",
     "output_type": "stream",
     "text": [
      "Fatal: 14.02%  Not Fatal 85.98%\n",
      "The baseline score to beat is 86%. In other words if we guessed none-fatal everytime we would be right 86% of the time.\n"
     ]
    }
   ],
   "source": [
    "base_line = shark_data.loc[shark_data['Fatal'] == 1]\n",
    "\n",
    "print(f\"Fatal: {len(base_line)/ len(shark_data) * 100:.02f}%\", f\" Not Fatal {(1- len(base_line)/ len(shark_data))* 100:.02f}%\")\n",
    "print(f\"The baseline score to beat is 86%. In other words if we guessed none-fatal everytime we would be right 86% of the time.\")"
   ]
  },
  {
   "cell_type": "markdown",
   "id": "46853f29-2119-4b37-9c85-7b0420f2c2e1",
   "metadata": {
    "pycharm": {
     "name": "#%% md\n"
    }
   },
   "source": [
    "## Fitting and training Logistic Rergression model"
   ]
  },
  {
   "cell_type": "code",
   "execution_count": 270,
   "id": "f541460a-ef47-4f27-9750-8579ed7b7c33",
   "metadata": {
    "pycharm": {
     "name": "#%%\n"
    }
   },
   "outputs": [],
   "source": [
    "\n",
    "\n",
    "raw_features = shark_data_clean[['Activity','Sex','Species', \"Type\", \"Country\"]]\n",
    "\n",
    "features = pd.get_dummies(raw_features)\n",
    "\n",
    "target = shark_data_clean['Fatal']\n",
    "\n",
    "model = LogisticRegression()\n",
    "\n",
    "known_input, future_input, known_output, future_output = train_test_split(features, target, test_size=0.2, random_state=42)\n",
    "\n",
    "model.fit(known_input, known_output) # tell it known stuff\n",
    "\n",
    "predictions = model.predict(future_input) # given future input, predict future output!\n"
   ]
  },
  {
   "cell_type": "markdown",
   "id": "b4202b26-fbd3-4586-9b1d-5a344140a3d0",
   "metadata": {
    "pycharm": {
     "name": "#%% md\n"
    }
   },
   "source": [
    "## Printing the Cross Validated Score "
   ]
  },
  {
   "cell_type": "code",
   "execution_count": 271,
   "id": "263d6c08-94e5-4124-9040-9c799fd60e67",
   "metadata": {
    "pycharm": {
     "name": "#%%\n"
    }
   },
   "outputs": [
    {
     "name": "stdout",
     "output_type": "stream",
     "text": [
      "The 5-fold crossvalidated score of my logistic regression model. 0.8591\n"
     ]
    }
   ],
   "source": [
    "from sklearn import svm\n",
    "\n",
    "clf = svm.SVC(kernel='linear', C=5).fit(known_input, known_output)\n",
    "print(f\"The 5-fold crossvalidated score of my logistic regression model. {clf.score(future_input, future_output):.04}\")"
   ]
  },
  {
   "cell_type": "markdown",
   "id": "bdebdfb8-b749-4d1a-8731-cf1e4bf907ca",
   "metadata": {
    "pycharm": {
     "name": "#%% md\n"
    }
   },
   "source": [
    "## Comapring Different Model Performance"
   ]
  },
  {
   "cell_type": "code",
   "execution_count": 272,
   "id": "75e9fc4a-ab4a-4eb3-944a-31fd445759e8",
   "metadata": {
    "pycharm": {
     "name": "#%%\n"
    }
   },
   "outputs": [
    {
     "data": {
      "text/html": [
       "<div>\n",
       "<style scoped>\n",
       "    .dataframe tbody tr th:only-of-type {\n",
       "        vertical-align: middle;\n",
       "    }\n",
       "\n",
       "    .dataframe tbody tr th {\n",
       "        vertical-align: top;\n",
       "    }\n",
       "\n",
       "    .dataframe thead th {\n",
       "        text-align: right;\n",
       "    }\n",
       "</style>\n",
       "<table border=\"1\" class=\"dataframe\">\n",
       "  <thead>\n",
       "    <tr style=\"text-align: right;\">\n",
       "      <th></th>\n",
       "      <th>Type</th>\n",
       "      <th>Country</th>\n",
       "      <th>Area</th>\n",
       "      <th>Activity</th>\n",
       "      <th>Sex</th>\n",
       "      <th>Age</th>\n",
       "      <th>Fatal</th>\n",
       "      <th>Species</th>\n",
       "    </tr>\n",
       "  </thead>\n",
       "  <tbody>\n",
       "    <tr>\n",
       "      <th>1183</th>\n",
       "      <td>Unprovoked</td>\n",
       "      <td>AUSTRALIA</td>\n",
       "      <td>New South Wales</td>\n",
       "      <td>Swimming/Diving</td>\n",
       "      <td>M</td>\n",
       "      <td>18</td>\n",
       "      <td>1</td>\n",
       "      <td>White</td>\n",
       "    </tr>\n",
       "    <tr>\n",
       "      <th>525</th>\n",
       "      <td>Unprovoked</td>\n",
       "      <td>SOUTH AFRICA</td>\n",
       "      <td>Western Cape Province</td>\n",
       "      <td>Swimming/Diving</td>\n",
       "      <td>M</td>\n",
       "      <td>25</td>\n",
       "      <td>0</td>\n",
       "      <td>White</td>\n",
       "    </tr>\n",
       "    <tr>\n",
       "      <th>947</th>\n",
       "      <td>Unprovoked</td>\n",
       "      <td>USA</td>\n",
       "      <td>California</td>\n",
       "      <td>Swimming/Diving</td>\n",
       "      <td>M</td>\n",
       "      <td>45</td>\n",
       "      <td>0</td>\n",
       "      <td>White</td>\n",
       "    </tr>\n",
       "    <tr>\n",
       "      <th>650</th>\n",
       "      <td>Unprovoked</td>\n",
       "      <td>USA</td>\n",
       "      <td>California</td>\n",
       "      <td>Board involved</td>\n",
       "      <td>M</td>\n",
       "      <td>16</td>\n",
       "      <td>0</td>\n",
       "      <td>White</td>\n",
       "    </tr>\n",
       "    <tr>\n",
       "      <th>242</th>\n",
       "      <td>Unprovoked</td>\n",
       "      <td>USA</td>\n",
       "      <td>Florida</td>\n",
       "      <td>Fishing</td>\n",
       "      <td>M</td>\n",
       "      <td>21</td>\n",
       "      <td>0</td>\n",
       "      <td>Bull</td>\n",
       "    </tr>\n",
       "  </tbody>\n",
       "</table>\n",
       "</div>"
      ],
      "text/plain": [
       "            Type       Country                   Area         Activity Sex  \\\n",
       "1183  Unprovoked     AUSTRALIA        New South Wales  Swimming/Diving   M   \n",
       "525   Unprovoked  SOUTH AFRICA  Western Cape Province  Swimming/Diving   M   \n",
       "947   Unprovoked           USA             California  Swimming/Diving   M   \n",
       "650   Unprovoked           USA             California   Board involved   M   \n",
       "242   Unprovoked           USA                Florida          Fishing   M   \n",
       "\n",
       "     Age  Fatal Species  \n",
       "1183  18      1   White  \n",
       "525   25      0   White  \n",
       "947   45      0   White  \n",
       "650   16      0   White  \n",
       "242   21      0    Bull  "
      ]
     },
     "execution_count": 272,
     "metadata": {},
     "output_type": "execute_result"
    }
   ],
   "source": [
    "# Here I subset the data and only printed the columns I will be using for my analysis\n",
    "shark_data_clean.sample(5)"
   ]
  },
  {
   "cell_type": "code",
   "execution_count": 273,
   "id": "d72c642d-dad2-4b04-8154-a0904531ae3f",
   "metadata": {
    "pycharm": {
     "name": "#%%\n"
    }
   },
   "outputs": [],
   "source": [
    "\n",
    "# Classifers to test\n",
    "classifiers = {\n",
    "    'kNN': KNeighborsClassifier(),\n",
    "    'Logit':LogisticRegression(), \n",
    "    'Tree': DecisionTreeClassifier(),\n",
    "    'Bayes': MultinomialNB()\n",
    "}\n",
    "\n",
    "scores = {} # Store cross-validation results in a dictionary\n",
    "for classifier in classifiers: \n",
    "    scores[classifier] = cross_validate( # perform cross-validation\n",
    "        classifiers[classifier], # classifier object\n",
    "        features, # feature matrix\n",
    "        target, # gold labels\n",
    "        cv=10, #number of folds\n",
    "        scoring=['accuracy', 'recall', 'f1'] # scoring methods\n",
    "    )"
   ]
  },
  {
   "cell_type": "code",
   "execution_count": 274,
   "id": "3d12172b-1c0a-4317-aedc-b6c459b725be",
   "metadata": {
    "pycharm": {
     "name": "#%%\n"
    }
   },
   "outputs": [],
   "source": [
    "# Examine the performance of our simple classifiers\n",
    "\n",
    "def compare_scores(scores_dict):\n",
    "    '''\n",
    "    Takes a dictionary of cross_validate scores.\n",
    "    Returns a color-coded Pandas dataframe that summarizes those scores.\n",
    "    '''\n",
    "    df = pd.DataFrame(scores_dict).T.applymap(np.mean).style.background_gradient(cmap='RdYlGn')\n",
    "    return df"
   ]
  },
  {
   "cell_type": "code",
   "execution_count": 275,
   "id": "022e2a2c-6334-40be-9a72-6d61dd0c02c3",
   "metadata": {
    "pycharm": {
     "name": "#%%\n"
    }
   },
   "outputs": [
    {
     "data": {
      "text/html": [
       "<style type=\"text/css\">\n",
       "#T_cefcc_row0_col0, #T_cefcc_row2_col1, #T_cefcc_row2_col2, #T_cefcc_row3_col3, #T_cefcc_row3_col4 {\n",
       "  background-color: #a50026;\n",
       "  color: #f1f1f1;\n",
       "}\n",
       "#T_cefcc_row0_col1, #T_cefcc_row0_col3, #T_cefcc_row0_col4, #T_cefcc_row1_col0, #T_cefcc_row3_col2 {\n",
       "  background-color: #006837;\n",
       "  color: #f1f1f1;\n",
       "}\n",
       "#T_cefcc_row0_col2 {\n",
       "  background-color: #a70226;\n",
       "  color: #f1f1f1;\n",
       "}\n",
       "#T_cefcc_row1_col1 {\n",
       "  background-color: #f8864f;\n",
       "  color: #f1f1f1;\n",
       "}\n",
       "#T_cefcc_row1_col2 {\n",
       "  background-color: #f99153;\n",
       "  color: #000000;\n",
       "}\n",
       "#T_cefcc_row1_col3 {\n",
       "  background-color: #fee999;\n",
       "  color: #000000;\n",
       "}\n",
       "#T_cefcc_row1_col4 {\n",
       "  background-color: #fa9857;\n",
       "  color: #000000;\n",
       "}\n",
       "#T_cefcc_row2_col0 {\n",
       "  background-color: #b10b26;\n",
       "  color: #f1f1f1;\n",
       "}\n",
       "#T_cefcc_row2_col3 {\n",
       "  background-color: #6ec064;\n",
       "  color: #000000;\n",
       "}\n",
       "#T_cefcc_row2_col4 {\n",
       "  background-color: #96d268;\n",
       "  color: #000000;\n",
       "}\n",
       "#T_cefcc_row3_col0 {\n",
       "  background-color: #b91326;\n",
       "  color: #f1f1f1;\n",
       "}\n",
       "#T_cefcc_row3_col1 {\n",
       "  background-color: #bd1726;\n",
       "  color: #f1f1f1;\n",
       "}\n",
       "</style>\n",
       "<table id=\"T_cefcc\">\n",
       "  <thead>\n",
       "    <tr>\n",
       "      <th class=\"blank level0\" >&nbsp;</th>\n",
       "      <th id=\"T_cefcc_level0_col0\" class=\"col_heading level0 col0\" >fit_time</th>\n",
       "      <th id=\"T_cefcc_level0_col1\" class=\"col_heading level0 col1\" >score_time</th>\n",
       "      <th id=\"T_cefcc_level0_col2\" class=\"col_heading level0 col2\" >test_accuracy</th>\n",
       "      <th id=\"T_cefcc_level0_col3\" class=\"col_heading level0 col3\" >test_recall</th>\n",
       "      <th id=\"T_cefcc_level0_col4\" class=\"col_heading level0 col4\" >test_f1</th>\n",
       "    </tr>\n",
       "  </thead>\n",
       "  <tbody>\n",
       "    <tr>\n",
       "      <th id=\"T_cefcc_level0_row0\" class=\"row_heading level0 row0\" >kNN</th>\n",
       "      <td id=\"T_cefcc_row0_col0\" class=\"data row0 col0\" >0.005446</td>\n",
       "      <td id=\"T_cefcc_row0_col1\" class=\"data row0 col1\" >0.013754</td>\n",
       "      <td id=\"T_cefcc_row0_col2\" class=\"data row0 col2\" >0.830685</td>\n",
       "      <td id=\"T_cefcc_row0_col3\" class=\"data row0 col3\" >0.323077</td>\n",
       "      <td id=\"T_cefcc_row0_col4\" class=\"data row0 col4\" >0.391870</td>\n",
       "    </tr>\n",
       "    <tr>\n",
       "      <th id=\"T_cefcc_level0_row1\" class=\"row_heading level0 row1\" >Logit</th>\n",
       "      <td id=\"T_cefcc_row1_col0\" class=\"data row1 col0\" >0.027753</td>\n",
       "      <td id=\"T_cefcc_row1_col1\" class=\"data row1 col1\" >0.008829</td>\n",
       "      <td id=\"T_cefcc_row1_col2\" class=\"data row1 col2\" >0.832036</td>\n",
       "      <td id=\"T_cefcc_row1_col3\" class=\"data row1 col3\" >0.261538</td>\n",
       "      <td id=\"T_cefcc_row1_col4\" class=\"data row1 col4\" >0.320150</td>\n",
       "    </tr>\n",
       "    <tr>\n",
       "      <th id=\"T_cefcc_level0_row2\" class=\"row_heading level0 row2\" >Tree</th>\n",
       "      <td id=\"T_cefcc_row2_col0\" class=\"data row2 col0\" >0.005997</td>\n",
       "      <td id=\"T_cefcc_row2_col1\" class=\"data row2 col1\" >0.007273</td>\n",
       "      <td id=\"T_cefcc_row2_col2\" class=\"data row2 col2\" >0.830649</td>\n",
       "      <td id=\"T_cefcc_row2_col3\" class=\"data row2 col3\" >0.300000</td>\n",
       "      <td id=\"T_cefcc_row2_col4\" class=\"data row2 col4\" >0.364834</td>\n",
       "    </tr>\n",
       "    <tr>\n",
       "      <th id=\"T_cefcc_level0_row3\" class=\"row_heading level0 row3\" >Bayes</th>\n",
       "      <td id=\"T_cefcc_row3_col0\" class=\"data row3 col0\" >0.006342</td>\n",
       "      <td id=\"T_cefcc_row3_col1\" class=\"data row3 col1\" >0.007593</td>\n",
       "      <td id=\"T_cefcc_row3_col2\" class=\"data row3 col2\" >0.836090</td>\n",
       "      <td id=\"T_cefcc_row3_col3\" class=\"data row3 col3\" >0.215385</td>\n",
       "      <td id=\"T_cefcc_row3_col4\" class=\"data row3 col4\" >0.293951</td>\n",
       "    </tr>\n",
       "  </tbody>\n",
       "</table>\n"
      ],
      "text/plain": [
       "<pandas.io.formats.style.Styler at 0x24633609e20>"
      ]
     },
     "execution_count": 275,
     "metadata": {},
     "output_type": "execute_result"
    }
   ],
   "source": [
    "# Compare cross-validation scores\n",
    "\n",
    "compare_scores(scores)"
   ]
  },
  {
   "cell_type": "markdown",
   "id": "e89a548c-4618-4608-8a35-78b94b23e90d",
   "metadata": {
    "pycharm": {
     "name": "#%% md\n"
    }
   },
   "source": [
    "## Brief Discussion and next Steps"
   ]
  },
  {
   "cell_type": "markdown",
   "id": "f35b30c6-5c90-4b70-a043-fe0511939a76",
   "metadata": {
    "pycharm": {
     "name": "#%% md\n"
    }
   },
   "source": [
    "When I first began this analysis I was under the impression that predicting fatal versus non-fatal attacks would be a perfect task for a machine learning model. The data for all recorded shark attacks since 1865 was made available through the work of shark scientists and the NSF thus I believed this to be a straightforward and very informative analysis. However, after looking at the data provided I notice that the dataset was updated over the years with very inconsistent and rather uninformative information. A lot of the data entries were filled with superfluous data that did not add any substantive information to the report. So some time and care were taken in cleaning this data using both excel and some quick pandas commands. \n",
    "\n",
    "However, after cleaning the data I thought that predicting a binary variable like fatal or non-fatal would be perfect for a logistic regression model which shines in instances like these. To predict fatal or non-fatal attacks I decided to use features such as what activities were being performed during the attack, the biological sex of the victim, the country where the attack occurred, the type of attack that occurred (provoked, unprovoked, boat disaster), and the age of the victim, and finally if the information was available the species of shark that attacked the victim. This last feature was particularly difficult to incorporate since many of the entries had an unidentified shark as being responsible. I decided to not include these in the final analysis. \n",
    "\n",
    "One thing to note is that the baseline score for fatal shark attacks is particularly high. In fact, for 86% of shark attack cases, the result is a non-fatal encounter. This made trying to beat the baseline score particularly difficult. After fitting the logistic regression model I was only able to get an accuracy of about baseline from my model.\n",
    "\n",
    "After not getting the output I wanted I tried using different classifiers but none of them gave me the accuracy or f1 score I was hoping for. What does this mean? Probably that I am not fitting the models with the right data or that I do not have the right parameters for my model. But more broadly it might be because shark attacks are on average very random and the fatality rate of a shark attack victim is mostly out of their control. "
   ]
  }
 ],
 "metadata": {
  "kernelspec": {
   "display_name": "Python 3 (ipykernel)",
   "language": "python",
   "name": "python3"
  },
  "language_info": {
   "codemirror_mode": {
    "name": "ipython",
    "version": 3
   },
   "file_extension": ".py",
   "mimetype": "text/x-python",
   "name": "python",
   "nbconvert_exporter": "python",
   "pygments_lexer": "ipython3",
   "version": "3.8.12"
  }
 },
 "nbformat": 4,
 "nbformat_minor": 5
}